{
 "cells": [
  {
   "cell_type": "code",
   "execution_count": 1,
   "id": "24353b87-6ce3-4d69-8e84-6b7f359ab7f6",
   "metadata": {},
   "outputs": [
    {
     "name": "stderr",
     "output_type": "stream",
     "text": [
      "[nltk_data] Downloading package punkt to C:\\Users\\DEVA HARSHA SAI\n",
      "[nltk_data]     N\\AppData\\Roaming\\nltk_data...\n",
      "[nltk_data]   Package punkt is already up-to-date!\n",
      "[nltk_data] Downloading package averaged_perceptron_tagger to\n",
      "[nltk_data]     C:\\Users\\DEVA HARSHA SAI\n",
      "[nltk_data]     N\\AppData\\Roaming\\nltk_data...\n",
      "[nltk_data]   Unzipping taggers\\averaged_perceptron_tagger.zip.\n"
     ]
    },
    {
     "name": "stdout",
     "output_type": "stream",
     "text": [
      "Word Frequency Distribution:\n",
      "<FreqDist with 14 samples and 15 outcomes>\n",
      "\n",
      "Part-of-Speech Tags:\n",
      "[('Natural', 'JJ'), ('Language', 'NNP'), ('Processing', 'NNP'), ('is', 'VBZ'), ('a', 'DT'), ('fascinating', 'JJ'), ('field', 'NN'), ('.', '.'), ('It', 'PRP'), ('combines', 'VBZ'), ('linguistics', 'NNS'), ('and', 'CC'), ('computer', 'NN'), ('science', 'NN'), ('.', '.')]\n"
     ]
    }
   ],
   "source": [
    "#Word Analysis\n",
    "# Importing necessary libraries\n",
    "import nltk\n",
    "from nltk import FreqDist\n",
    "from nltk.tokenize import word_tokenize\n",
    "from nltk import pos_tag\n",
    "\n",
    "# Download necessary NLTK data files\n",
    "nltk.download('punkt')\n",
    "nltk.download('averaged_perceptron_tagger')\n",
    "\n",
    "# Sample text\n",
    "text = \"Natural Language Processing is a fascinating field. It combines linguistics and computer science.\"# Tokenize the text\n",
    "tokens = word_tokenize(text)\n",
    "\n",
    "# Perform word frequency analysis\n",
    "fdist = FreqDist(tokens)\n",
    "print(\"Word Frequency Distribution:\")\n",
    "print(fdist)\n",
    "\n",
    "# Perform part-of-speech tagging\n",
    "pos_tags = pos_tag(tokens)\n",
    "print(\"\\nPart-of-Speech Tags:\")\n",
    "print(pos_tags)\n"
   ]
  },
  {
   "cell_type": "code",
   "execution_count": 4,
   "id": "060547a4-a07a-4f34-b608-87ee47cf7aff",
   "metadata": {},
   "outputs": [
    {
     "name": "stdout",
     "output_type": "stream",
     "text": [
      "[('Natural', 'Language'), ('Language', 'Processing'), ('Processing', 'is'), ('is', 'a'), ('a', 'fascinating'), ('fascinating', 'field'), ('field', '.')]\n",
      "\n",
      "Bigram Frequency:\n",
      "Counter({('Natural', 'Language'): 1, ('Language', 'Processing'): 1, ('Processing', 'is'): 1, ('is', 'a'): 1, ('a', 'fascinating'): 1, ('fascinating', 'field'): 1, ('field', '.'): 1})\n"
     ]
    }
   ],
   "source": [
    "#N-Grams\n",
    "import nltk\n",
    "from nltk import ngrams\n",
    "from collections import Counter\n",
    "\n",
    "# Sample text\n",
    "text = \"Natural Language Processing is a fascinating field.\"# Tokenize the text\n",
    "tokens = nltk.word_tokenize(text)\n",
    "\n",
    "# Create bigrams\n",
    "bigrams = list(ngrams(tokens, 2))\n",
    "\n",
    "# Display the bigramsprint(\"Bigrams:\")\n",
    "print(bigrams)\n",
    "\n",
    "# Count the frequency of bigrams\n",
    "bigram_freq = Counter(bigrams)\n",
    "print(\"\\nBigram Frequency:\")\n",
    "print(bigram_freq)\n"
   ]
  },
  {
   "cell_type": "code",
   "execution_count": null,
   "id": "4b55368d-c336-4eb9-9706-28c294d9ce0f",
   "metadata": {},
   "outputs": [],
   "source": []
  },
  {
   "cell_type": "code",
   "execution_count": null,
   "id": "cebecac2-f42a-4fb4-9595-487d1c420f1f",
   "metadata": {},
   "outputs": [],
   "source": []
  }
 ],
 "metadata": {
  "kernelspec": {
   "display_name": "Python 3 (ipykernel)",
   "language": "python",
   "name": "python3"
  },
  "language_info": {
   "codemirror_mode": {
    "name": "ipython",
    "version": 3
   },
   "file_extension": ".py",
   "mimetype": "text/x-python",
   "name": "python",
   "nbconvert_exporter": "python",
   "pygments_lexer": "ipython3",
   "version": "3.11.5"
  }
 },
 "nbformat": 4,
 "nbformat_minor": 5
}
